{
 "cells": [
  {
   "cell_type": "code",
   "execution_count": null,
   "metadata": {},
   "outputs": [],
   "source": [
    "import requests\n",
    "import json\n",
    "import time\n",
    "from bs4 import BeautifulSoup"
   ]
  },
  {
   "cell_type": "code",
   "execution_count": null,
   "metadata": {},
   "outputs": [],
   "source": [
    "base_url = \"https://kurser.dtu.dk/course/\"\n",
    "cookies_base = {\n",
    "    'ASP.NET_SessionId' : \"m2nar0ff40qtrxgahijrrek0\",\n",
    "    '{DTUCoursesPublicLanguage}' : 'en-GB'\n",
    "}\n",
    "cookies_eval = {\n",
    "    'ASP.NET_SessionId' : \"jyl2tu1kp5rftikcrflzznsu\",\n",
    "    '{DTUCoursesPublicLanguage}' : 'en-GB',\n",
    "}\n",
    "cookies_grades = {\n",
    "    'ASP.NET_SessionId' : \"anw5qpxstahbxysv200oygx5\",\n",
    "    '{DTUCoursesPublicLanguage}' : 'en-GB'\n",
    "}"
   ]
  },
  {
   "cell_type": "code",
   "execution_count": null,
   "metadata": {},
   "outputs": [],
   "source": [
    "with open('valid_courses.json') as f:\n",
    "    valid_courses = json.load(f)"
   ]
  },
  {
   "cell_type": "code",
   "execution_count": null,
   "metadata": {},
   "outputs": [],
   "source": [
    "eval_links = {}\n",
    "\n",
    "for course_num in valid_courses:\n",
    "    \n",
    "    # Define page content\n",
    "    course_url = f\"{base_url}{course_num}/info\"\n",
    "    response = requests.get(course_url, cookies=cookies_base)\n",
    "    soup = BeautifulSoup(response.content, 'html.parser')\n",
    "    \n",
    "    # Find left div, and all links within it\n",
    "    left_box = soup.find('div', class_='box')\n",
    "    atags = left_box.find_all('a')\n",
    "        \n",
    "    # Extract link-urls and link-texts\n",
    "    eval_hrefs = []\n",
    "    eval_texts = []\n",
    "    grade_hrefs = []\n",
    "    grade_texts = []\n",
    "    for atag in atags:\n",
    "        if \"evaluering.dtu.dk\" in atag['href']:\n",
    "            eval_hrefs.append(atag['href'])\n",
    "            eval_texts.append(atag.text.replace('\\r', '').replace('\\n', '').replace('  ', ''))\n",
    "        elif \"karakterer.dtu.dk\" in atag['href']:\n",
    "            grade_hrefs.append(atag['href'])\n",
    "            grade_texts.append(atag.text.replace('\\r', '').replace('\\n', '').replace('  ', ''))\n",
    "\n",
    "    if (len(eval_hrefs) == 0) or (len(grade_hrefs) == 0):\n",
    "        print(f\"Not enough info on {course_num}\")\n",
    "        continue\n",
    "    \n",
    "    # Get content of the links\n",
    "    print(course_url)\n",
    "    eval_response = requests.get(eval_hrefs[0], cookies=cookies_eval)\n",
    "    grade_response1 = requests.get(grade_hrefs[0], cookies=cookies_grades)\n",
    "    if len(grade_hrefs) > 1:\n",
    "        grade_response2 = requests.get(grade_hrefs[1], cookies=cookies_grades)\n",
    "        \n",
    "        # Second latest grade\n",
    "        grade2_soup = BeautifulSoup(grade_response2.content, 'html.parser')\n",
    "        form_2 = grade2_soup.find('form', id='karsumForm')\n",
    "        num_participants_2 = int(form_2.find_all('td')[1].text.replace('\\r', '').replace('\\n', '').replace('  ', ''))\n",
    "    else:\n",
    "        num_participants_2 = 0\n",
    "    \n",
    "    # Latest grade\n",
    "    grade1_soup = BeautifulSoup(grade_response1.content, 'html.parser')\n",
    "    form_1 = grade1_soup.find('form', id='karsumForm')\n",
    "    num_participants_1 = int(form_1.find_all('td')[1].text.replace('\\r', '').replace('\\n', '').replace('  ', ''))\n",
    "    \n",
    "    \n",
    "    \n",
    "    # Based on the number of participants, choose the correct grade page\n",
    "    if num_participants_1*2 > num_participants_2:\n",
    "        eval_links[course_num] = {'eval': eval_hrefs[0], 'grade': grade_hrefs[0]}\n",
    "    else:\n",
    "        eval_links[course_num] = {'eval': eval_hrefs[0], 'grade': grade_hrefs[1]}   \n",
    "    "
   ]
  },
  {
   "cell_type": "code",
   "execution_count": null,
   "metadata": {},
   "outputs": [],
   "source": [
    "eval_links"
   ]
  },
  {
   "cell_type": "code",
   "execution_count": null,
   "metadata": {},
   "outputs": [],
   "source": [
    "# save dict as json\n",
    "with open('eval_links.json', 'w') as file:\n",
    "    json.dump(eval_links, file)"
   ]
  }
 ],
 "metadata": {
  "kernelspec": {
   "display_name": "viz",
   "language": "python",
   "name": "python3"
  },
  "language_info": {
   "codemirror_mode": {
    "name": "ipython",
    "version": 3
   },
   "file_extension": ".py",
   "mimetype": "text/x-python",
   "name": "python",
   "nbconvert_exporter": "python",
   "pygments_lexer": "ipython3",
   "version": "3.9.19"
  }
 },
 "nbformat": 4,
 "nbformat_minor": 2
}
